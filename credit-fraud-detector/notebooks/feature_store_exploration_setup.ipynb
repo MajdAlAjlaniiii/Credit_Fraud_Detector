{
 "cells": [
  {
   "cell_type": "code",
   "execution_count": 1,
   "id": "3275ae68-1888-4207-a7de-22665f5e1581",
   "metadata": {},
   "outputs": [],
   "source": [
    "import pandas as pd"
   ]
  },
  {
   "cell_type": "markdown",
   "id": "751cfe32-6610-4323-b282-4532f7b56c36",
   "metadata": {},
   "source": [
    "# Data loading and simple exploration"
   ]
  },
  {
   "cell_type": "code",
   "execution_count": 2,
   "id": "08d2908d-3796-482c-b7a5-b07fac9040d7",
   "metadata": {},
   "outputs": [
    {
     "data": {
      "text/html": [
       "<div>\n",
       "<style scoped>\n",
       "    .dataframe tbody tr th:only-of-type {\n",
       "        vertical-align: middle;\n",
       "    }\n",
       "\n",
       "    .dataframe tbody tr th {\n",
       "        vertical-align: top;\n",
       "    }\n",
       "\n",
       "    .dataframe thead th {\n",
       "        text-align: right;\n",
       "    }\n",
       "</style>\n",
       "<table border=\"1\" class=\"dataframe\">\n",
       "  <thead>\n",
       "    <tr style=\"text-align: right;\">\n",
       "      <th></th>\n",
       "      <th>scaled_amount</th>\n",
       "      <th>scaled_time</th>\n",
       "      <th>V1</th>\n",
       "      <th>V2</th>\n",
       "      <th>V3</th>\n",
       "      <th>V4</th>\n",
       "      <th>V5</th>\n",
       "      <th>V6</th>\n",
       "      <th>V7</th>\n",
       "      <th>V8</th>\n",
       "      <th>...</th>\n",
       "      <th>V20</th>\n",
       "      <th>V21</th>\n",
       "      <th>V22</th>\n",
       "      <th>V23</th>\n",
       "      <th>V24</th>\n",
       "      <th>V25</th>\n",
       "      <th>V26</th>\n",
       "      <th>V27</th>\n",
       "      <th>V28</th>\n",
       "      <th>Class</th>\n",
       "    </tr>\n",
       "  </thead>\n",
       "  <tbody>\n",
       "    <tr>\n",
       "      <th>0</th>\n",
       "      <td>12.687766</td>\n",
       "      <td>-0.404316</td>\n",
       "      <td>-0.342098</td>\n",
       "      <td>-3.588867</td>\n",
       "      <td>-1.538130</td>\n",
       "      <td>-0.246931</td>\n",
       "      <td>-0.956828</td>\n",
       "      <td>0.771315</td>\n",
       "      <td>0.656323</td>\n",
       "      <td>-0.094378</td>\n",
       "      <td>...</td>\n",
       "      <td>1.863204</td>\n",
       "      <td>0.683511</td>\n",
       "      <td>-0.116899</td>\n",
       "      <td>-1.111424</td>\n",
       "      <td>-1.276077</td>\n",
       "      <td>0.488605</td>\n",
       "      <td>-0.062315</td>\n",
       "      <td>-0.179958</td>\n",
       "      <td>0.133955</td>\n",
       "      <td>0</td>\n",
       "    </tr>\n",
       "    <tr>\n",
       "      <th>1</th>\n",
       "      <td>-0.213233</td>\n",
       "      <td>0.821285</td>\n",
       "      <td>0.667714</td>\n",
       "      <td>3.041502</td>\n",
       "      <td>-5.845112</td>\n",
       "      <td>5.967587</td>\n",
       "      <td>0.213863</td>\n",
       "      <td>-1.462923</td>\n",
       "      <td>-2.688761</td>\n",
       "      <td>0.677764</td>\n",
       "      <td>...</td>\n",
       "      <td>0.558425</td>\n",
       "      <td>0.329760</td>\n",
       "      <td>-0.941383</td>\n",
       "      <td>-0.006075</td>\n",
       "      <td>-0.958925</td>\n",
       "      <td>0.239298</td>\n",
       "      <td>-0.067356</td>\n",
       "      <td>0.821048</td>\n",
       "      <td>0.426175</td>\n",
       "      <td>1</td>\n",
       "    </tr>\n",
       "    <tr>\n",
       "      <th>2</th>\n",
       "      <td>-0.022078</td>\n",
       "      <td>-0.407195</td>\n",
       "      <td>1.096441</td>\n",
       "      <td>0.247292</td>\n",
       "      <td>1.449417</td>\n",
       "      <td>2.652978</td>\n",
       "      <td>-0.773799</td>\n",
       "      <td>0.046267</td>\n",
       "      <td>-0.483269</td>\n",
       "      <td>0.126451</td>\n",
       "      <td>...</td>\n",
       "      <td>-0.112556</td>\n",
       "      <td>-0.033605</td>\n",
       "      <td>-0.050347</td>\n",
       "      <td>0.033304</td>\n",
       "      <td>0.383234</td>\n",
       "      <td>0.263300</td>\n",
       "      <td>-0.051038</td>\n",
       "      <td>0.034167</td>\n",
       "      <td>0.039962</td>\n",
       "      <td>0</td>\n",
       "    </tr>\n",
       "    <tr>\n",
       "      <th>3</th>\n",
       "      <td>9.863900</td>\n",
       "      <td>0.637343</td>\n",
       "      <td>-2.356348</td>\n",
       "      <td>1.746360</td>\n",
       "      <td>-6.374624</td>\n",
       "      <td>1.772205</td>\n",
       "      <td>-3.439294</td>\n",
       "      <td>1.457811</td>\n",
       "      <td>-0.362577</td>\n",
       "      <td>1.443791</td>\n",
       "      <td>...</td>\n",
       "      <td>0.194810</td>\n",
       "      <td>0.857942</td>\n",
       "      <td>0.621203</td>\n",
       "      <td>0.964817</td>\n",
       "      <td>-0.619437</td>\n",
       "      <td>-1.732613</td>\n",
       "      <td>0.108361</td>\n",
       "      <td>1.130828</td>\n",
       "      <td>0.415703</td>\n",
       "      <td>1</td>\n",
       "    </tr>\n",
       "    <tr>\n",
       "      <th>4</th>\n",
       "      <td>-0.293440</td>\n",
       "      <td>-0.902278</td>\n",
       "      <td>-1.585505</td>\n",
       "      <td>3.261585</td>\n",
       "      <td>-4.137422</td>\n",
       "      <td>2.357096</td>\n",
       "      <td>-1.405043</td>\n",
       "      <td>-1.879437</td>\n",
       "      <td>-3.513687</td>\n",
       "      <td>1.515607</td>\n",
       "      <td>...</td>\n",
       "      <td>0.315957</td>\n",
       "      <td>0.501543</td>\n",
       "      <td>-0.546869</td>\n",
       "      <td>-0.076584</td>\n",
       "      <td>-0.425550</td>\n",
       "      <td>0.123644</td>\n",
       "      <td>0.321985</td>\n",
       "      <td>0.264028</td>\n",
       "      <td>0.132817</td>\n",
       "      <td>1</td>\n",
       "    </tr>\n",
       "  </tbody>\n",
       "</table>\n",
       "<p>5 rows × 31 columns</p>\n",
       "</div>"
      ],
      "text/plain": [
       "   scaled_amount  scaled_time        V1        V2        V3        V4  \\\n",
       "0      12.687766    -0.404316 -0.342098 -3.588867 -1.538130 -0.246931   \n",
       "1      -0.213233     0.821285  0.667714  3.041502 -5.845112  5.967587   \n",
       "2      -0.022078    -0.407195  1.096441  0.247292  1.449417  2.652978   \n",
       "3       9.863900     0.637343 -2.356348  1.746360 -6.374624  1.772205   \n",
       "4      -0.293440    -0.902278 -1.585505  3.261585 -4.137422  2.357096   \n",
       "\n",
       "         V5        V6        V7        V8  ...       V20       V21       V22  \\\n",
       "0 -0.956828  0.771315  0.656323 -0.094378  ...  1.863204  0.683511 -0.116899   \n",
       "1  0.213863 -1.462923 -2.688761  0.677764  ...  0.558425  0.329760 -0.941383   \n",
       "2 -0.773799  0.046267 -0.483269  0.126451  ... -0.112556 -0.033605 -0.050347   \n",
       "3 -3.439294  1.457811 -0.362577  1.443791  ...  0.194810  0.857942  0.621203   \n",
       "4 -1.405043 -1.879437 -3.513687  1.515607  ...  0.315957  0.501543 -0.546869   \n",
       "\n",
       "        V23       V24       V25       V26       V27       V28  Class  \n",
       "0 -1.111424 -1.276077  0.488605 -0.062315 -0.179958  0.133955      0  \n",
       "1 -0.006075 -0.958925  0.239298 -0.067356  0.821048  0.426175      1  \n",
       "2  0.033304  0.383234  0.263300 -0.051038  0.034167  0.039962      0  \n",
       "3  0.964817 -0.619437 -1.732613  0.108361  1.130828  0.415703      1  \n",
       "4 -0.076584 -0.425550  0.123644  0.321985  0.264028  0.132817      1  \n",
       "\n",
       "[5 rows x 31 columns]"
      ]
     },
     "execution_count": 2,
     "metadata": {},
     "output_type": "execute_result"
    }
   ],
   "source": [
    "data = pd.read_csv('../data/03_primary/preprocessed_data.csv')\n",
    "data.head()"
   ]
  },
  {
   "cell_type": "markdown",
   "id": "ab4ee520-bbc9-46b7-b718-00cbedf7080d",
   "metadata": {},
   "source": [
    "The data is already preprocessed and it looks like there is no room for further feature engineering.<br>\n",
    "<br>\n",
    "That way, the only thing left to do is to push all the columns to our feature store."
   ]
  },
  {
   "cell_type": "markdown",
   "id": "878d75d9-bd51-4a84-8c30-539092abc1cc",
   "metadata": {},
   "source": [
    "# Hopsworks "
   ]
  },
  {
   "cell_type": "code",
   "execution_count": 7,
   "id": "eeba0c96-d443-4cef-b24d-f592b878cb4c",
   "metadata": {},
   "outputs": [],
   "source": [
    "from dotenv import load_dotenv\n",
    "import os"
   ]
  },
  {
   "cell_type": "code",
   "execution_count": 8,
   "id": "c80a4db9-ba58-489e-b8f8-2c1f4a4709e5",
   "metadata": {},
   "outputs": [
    {
     "data": {
      "text/plain": [
       "True"
      ]
     },
     "execution_count": 8,
     "metadata": {},
     "output_type": "execute_result"
    }
   ],
   "source": [
    "load_dotenv()"
   ]
  },
  {
   "cell_type": "code",
   "execution_count": 11,
   "id": "fc36f8ca-691f-49a4-807e-409347ee218e",
   "metadata": {},
   "outputs": [],
   "source": [
    "import hopsworks\n",
    "from great_expectations.core import ExpectationSuite"
   ]
  },
  {
   "cell_type": "code",
   "execution_count": 59,
   "id": "11a386c0-4bbd-41b8-a31c-b850a0319da7",
   "metadata": {},
   "outputs": [],
   "source": [
    "def to_feature_store(\n",
    "    df: pd.DataFrame,\n",
    "    group_name: str,\n",
    "    feature_group_version: int,\n",
    "    description: str,\n",
    "    group_description: dict,\n",
    "    validation_expectation_suite: ExpectationSuite = None\n",
    "):\n",
    "    '''\n",
    "    This function takes in a pandas DataFrame and a validation expectation suite,\n",
    "      performs validation on the data using the suite, and then saves the data to a\n",
    "      feature store in the feature store.\n",
    "\n",
    "    Args:\n",
    "        - data (pd.DataFrame): Dataframe with the data to be stored\n",
    "        - group_name (str): Name of the feature group.\n",
    "        - feature_group_version (int): Version of the feature group.\n",
    "        - description (str): Description for the feature group.\n",
    "        - group_description (dict): Description of each feature of the feature group. \n",
    "        - validation_expectation_suite (ExpectationSuite): group of expectations to check data.\n",
    "        \n",
    "    Returns:\n",
    "        - A dictionary with the feature view version, feature view name and training dataset feature version.\n",
    "    '''\n",
    "    ##### DELETE THIS BIT AFTER GX IS IMPLEMENTED #####\n",
    "    if validation_expectation_suite:\n",
    "        raise NotImplementedError\n",
    "    ###################################################\n",
    "    \n",
    "    if not isinstance(df, pd.DataFrame) and not isinstance(df, pd.Series):\n",
    "        raise TypeError(f'Expect pd.DataFrame, got {type(df)}')\n",
    "    if isinstance(df, pd.Series):\n",
    "        df = pd.DataFrame(df)\n",
    "    \n",
    "    if 'index' not in df.columns:\n",
    "        df = df.reset_index()\n",
    "\n",
    "    # Get credentials\n",
    "    project_name = os.environ.get('FS_PROJECT_NAME')\n",
    "    api_key = os.environ.get('FS_API_KEY')\n",
    "    \n",
    "    # Connect to feature store.\n",
    "    project = hopsworks.login(\n",
    "        api_key_value=api_key, project=project_name\n",
    "    )\n",
    "    feature_store = project.get_feature_store()\n",
    "\n",
    "    # Create feature group.\n",
    "    object_feature_group = feature_store.get_or_create_feature_group(\n",
    "        name=group_name,\n",
    "        version=feature_group_version,\n",
    "        primary_key=['index'],\n",
    "        description= description,\n",
    "        online_enabled=False,\n",
    "        expectation_suite=validation_expectation_suite\n",
    "    )\n",
    "    \n",
    "    # Upload data.\n",
    "    object_feature_group.insert(\n",
    "        features=df,\n",
    "        overwrite=False,\n",
    "        write_options={\n",
    "            \"wait_for_job\": True,\n",
    "        },\n",
    "    )\n",
    "\n",
    "    # Add feature descriptions.\n",
    "    for description in group_description:\n",
    "        object_feature_group.update_feature_description(\n",
    "            description[\"name\"], description[\"description\"]\n",
    "        )\n",
    "\n",
    "    # Update statistics.\n",
    "    object_feature_group.statistics_config = {\n",
    "        \"enabled\": True,\n",
    "        \"histograms\": True,\n",
    "        \"correlations\": True,\n",
    "    }\n",
    "    object_feature_group.update_statistics_config()\n",
    "    object_feature_group.compute_statistics()\n",
    "\n",
    "    return object_feature_group"
   ]
  },
  {
   "cell_type": "markdown",
   "id": "fa1edb25-7bc9-46a3-900f-7e765f09558c",
   "metadata": {},
   "source": [
    "## Test run"
   ]
  },
  {
   "cell_type": "code",
   "execution_count": 18,
   "id": "e1d2bbcb-18a4-48a5-9a01-ef6df2270e12",
   "metadata": {},
   "outputs": [
    {
     "data": {
      "text/plain": [
       "Index(['scaled_amount', 'scaled_time', 'V1', 'V2', 'V3', 'V4', 'V5', 'V6',\n",
       "       'V7', 'V8', 'V9', 'V10', 'V11', 'V12', 'V13', 'V14', 'V15', 'V16',\n",
       "       'V17', 'V18', 'V19', 'V20', 'V21', 'V22', 'V23', 'V24', 'V25', 'V26',\n",
       "       'V27', 'V28', 'Class'],\n",
       "      dtype='object')"
      ]
     },
     "execution_count": 18,
     "metadata": {},
     "output_type": "execute_result"
    }
   ],
   "source": [
    "data.columns"
   ]
  },
  {
   "cell_type": "markdown",
   "id": "6fc13fc0-8c9c-47b6-aa69-fa96735addbc",
   "metadata": {},
   "source": [
    "### Feature descriptions"
   ]
  },
  {
   "cell_type": "code",
   "execution_count": 49,
   "id": "b6936f98-121a-4a13-af78-d0cde3dcd444",
   "metadata": {
    "scrolled": true
   },
   "outputs": [
    {
     "data": {
      "text/plain": [
       "[{'name': 'v1',\n",
       "  'description': 'Anonymized credit card data',\n",
       "  'validation_rules': 'TO DETERMINE'},\n",
       " {'name': 'v2',\n",
       "  'description': 'Anonymized credit card data',\n",
       "  'validation_rules': 'TO DETERMINE'},\n",
       " {'name': 'v3',\n",
       "  'description': 'Anonymized credit card data',\n",
       "  'validation_rules': 'TO DETERMINE'},\n",
       " {'name': 'v4',\n",
       "  'description': 'Anonymized credit card data',\n",
       "  'validation_rules': 'TO DETERMINE'},\n",
       " {'name': 'v5',\n",
       "  'description': 'Anonymized credit card data',\n",
       "  'validation_rules': 'TO DETERMINE'},\n",
       " {'name': 'v6',\n",
       "  'description': 'Anonymized credit card data',\n",
       "  'validation_rules': 'TO DETERMINE'},\n",
       " {'name': 'v7',\n",
       "  'description': 'Anonymized credit card data',\n",
       "  'validation_rules': 'TO DETERMINE'},\n",
       " {'name': 'v8',\n",
       "  'description': 'Anonymized credit card data',\n",
       "  'validation_rules': 'TO DETERMINE'},\n",
       " {'name': 'v9',\n",
       "  'description': 'Anonymized credit card data',\n",
       "  'validation_rules': 'TO DETERMINE'},\n",
       " {'name': 'v10',\n",
       "  'description': 'Anonymized credit card data',\n",
       "  'validation_rules': 'TO DETERMINE'},\n",
       " {'name': 'v11',\n",
       "  'description': 'Anonymized credit card data',\n",
       "  'validation_rules': 'TO DETERMINE'},\n",
       " {'name': 'v12',\n",
       "  'description': 'Anonymized credit card data',\n",
       "  'validation_rules': 'TO DETERMINE'},\n",
       " {'name': 'v13',\n",
       "  'description': 'Anonymized credit card data',\n",
       "  'validation_rules': 'TO DETERMINE'},\n",
       " {'name': 'v14',\n",
       "  'description': 'Anonymized credit card data',\n",
       "  'validation_rules': 'TO DETERMINE'},\n",
       " {'name': 'v15',\n",
       "  'description': 'Anonymized credit card data',\n",
       "  'validation_rules': 'TO DETERMINE'},\n",
       " {'name': 'v16',\n",
       "  'description': 'Anonymized credit card data',\n",
       "  'validation_rules': 'TO DETERMINE'},\n",
       " {'name': 'v17',\n",
       "  'description': 'Anonymized credit card data',\n",
       "  'validation_rules': 'TO DETERMINE'},\n",
       " {'name': 'v18',\n",
       "  'description': 'Anonymized credit card data',\n",
       "  'validation_rules': 'TO DETERMINE'},\n",
       " {'name': 'v19',\n",
       "  'description': 'Anonymized credit card data',\n",
       "  'validation_rules': 'TO DETERMINE'},\n",
       " {'name': 'v20',\n",
       "  'description': 'Anonymized credit card data',\n",
       "  'validation_rules': 'TO DETERMINE'},\n",
       " {'name': 'v21',\n",
       "  'description': 'Anonymized credit card data',\n",
       "  'validation_rules': 'TO DETERMINE'},\n",
       " {'name': 'v22',\n",
       "  'description': 'Anonymized credit card data',\n",
       "  'validation_rules': 'TO DETERMINE'},\n",
       " {'name': 'v23',\n",
       "  'description': 'Anonymized credit card data',\n",
       "  'validation_rules': 'TO DETERMINE'},\n",
       " {'name': 'v24',\n",
       "  'description': 'Anonymized credit card data',\n",
       "  'validation_rules': 'TO DETERMINE'},\n",
       " {'name': 'v25',\n",
       "  'description': 'Anonymized credit card data',\n",
       "  'validation_rules': 'TO DETERMINE'},\n",
       " {'name': 'v26',\n",
       "  'description': 'Anonymized credit card data',\n",
       "  'validation_rules': 'TO DETERMINE'},\n",
       " {'name': 'v27',\n",
       "  'description': 'Anonymized credit card data',\n",
       "  'validation_rules': 'TO DETERMINE'},\n",
       " {'name': 'v28',\n",
       "  'description': 'Anonymized credit card data',\n",
       "  'validation_rules': 'TO DETERMINE'},\n",
       " {'name': 'scaled_amount',\n",
       "  'description': 'Scaled amount of transaction',\n",
       "  'validation_rules': 'TO DETERMINE'},\n",
       " {'name': 'scaled_time',\n",
       "  'description': 'Scaled amount of time, relative to first transaction observation',\n",
       "  'validation_rules': 'TO DETERMINE'},\n",
       " {'name': 'index',\n",
       "  'description': 'Index of the observations',\n",
       "  'validation_rules': 'Positive integer, unique'}]"
      ]
     },
     "execution_count": 49,
     "metadata": {},
     "output_type": "execute_result"
    }
   ],
   "source": [
    "feature_descriptions = [{'name': f'v{i}', 'description': 'Anonymized credit card data', 'validation_rules': 'TO DETERMINE'} for i in range(1, 29)] \n",
    "feature_descriptions += [\n",
    "    {'name': 'scaled_amount', 'description': 'Scaled amount of transaction', 'validation_rules': 'TO DETERMINE'},\n",
    "    {'name': 'scaled_time', 'description': 'Scaled amount of time, relative to first transaction observation', 'validation_rules': 'TO DETERMINE'},\n",
    "    {'name': 'index', 'description': 'Index of the observations', 'validation_rules': 'Positive integer, unique'},\n",
    "]\n",
    "\n",
    "feature_descriptions"
   ]
  },
  {
   "cell_type": "code",
   "execution_count": 53,
   "id": "66d10f9f-da01-4120-b54b-cb24a9a032bb",
   "metadata": {},
   "outputs": [],
   "source": [
    "class_description = [\n",
    "    {'name': 'index', 'description': 'Index of the observations', 'validation_rules': 'Positive integer, unique'},\n",
    "    {'name': 'class', 'description': 'Predicted class of the observation. 1 for fraud, 0 otherwise', 'validation_rules': '0 or 1'}\n",
    "]"
   ]
  },
  {
   "cell_type": "code",
   "execution_count": 51,
   "id": "0992ca5b-5e63-4916-8e2d-acffa0f3037a",
   "metadata": {},
   "outputs": [],
   "source": [
    "X = data.drop(columns=['Class'])\n",
    "y = data['Class']"
   ]
  },
  {
   "cell_type": "code",
   "execution_count": 52,
   "id": "6d609183-050f-4e6b-b698-30b58b7081c4",
   "metadata": {},
   "outputs": [
    {
     "name": "stdout",
     "output_type": "stream",
     "text": [
      "Connection closed.\n",
      "Connected. Call `.close()` to terminate connection gracefully.\n",
      "\n",
      "Logged in to project, explore it here https://c.app.hopsworks.ai:443/p/824468\n",
      "Connected. Call `.close()` to terminate connection gracefully.\n",
      "2024-06-22 18:28:33,881 WARNING: FeatureGroupWarning: The ingested dataframe contains upper case letters in feature names: `['V1', 'V2', 'V3', 'V4', 'V5', 'V6', 'V7', 'V8', 'V9', 'V10', 'V11', 'V12', 'V13', 'V14', 'V15', 'V16', 'V17', 'V18', 'V19', 'V20', 'V21', 'V22', 'V23', 'V24', 'V25', 'V26', 'V27', 'V28']`. Feature names are sanitized to lower case in the feature store.\n",
      "\n"
     ]
    },
    {
     "data": {
      "application/vnd.jupyter.widget-view+json": {
       "model_id": "a200a9f1e4434592995d75bb2fa87cf5",
       "version_major": 2,
       "version_minor": 0
      },
      "text/plain": [
       "Uploading Dataframe: 0.00% |          | Rows 0/946 | Elapsed Time: 00:00 | Remaining Time: ?"
      ]
     },
     "metadata": {},
     "output_type": "display_data"
    },
    {
     "name": "stdout",
     "output_type": "stream",
     "text": [
      "Launching job: features_1_offline_fg_materialization\n",
      "Job started successfully, you can follow the progress at \n",
      "https://c.app.hopsworks.ai/p/824468/jobs/named/features_1_offline_fg_materialization/executions\n",
      "Statistics Job started successfully, you can follow the progress at \n",
      "https://c.app.hopsworks.ai/p/824468/jobs/named/features_1_compute_stats_22062024173025/executions\n"
     ]
    },
    {
     "data": {
      "text/plain": [
       "<hsfs.feature_group.FeatureGroup at 0x7b1268517c90>"
      ]
     },
     "execution_count": 52,
     "metadata": {},
     "output_type": "execute_result"
    }
   ],
   "source": [
    "to_feature_store(\n",
    "    df=X, group_name='features',\n",
    "    feature_group_version=1, description='Test run of features',\n",
    "    group_description=feature_descriptions\n",
    ")"
   ]
  },
  {
   "cell_type": "code",
   "execution_count": 58,
   "id": "8258bcba-0459-4867-93b0-ca439e88feb7",
   "metadata": {},
   "outputs": [
    {
     "name": "stdout",
     "output_type": "stream",
     "text": [
      "Connection closed.\n",
      "Connected. Call `.close()` to terminate connection gracefully.\n",
      "\n",
      "Logged in to project, explore it here https://c.app.hopsworks.ai:443/p/824468\n",
      "Connected. Call `.close()` to terminate connection gracefully.\n",
      "2024-06-22 18:43:19,678 WARNING: FeatureGroupWarning: The ingested dataframe contains upper case letters in feature names: `['Class']`. Feature names are sanitized to lower case in the feature store.\n",
      "\n",
      "Feature Group created successfully, explore it at \n",
      "https://c.app.hopsworks.ai:443/p/824468/fs/820291/fg/931170\n"
     ]
    },
    {
     "data": {
      "application/vnd.jupyter.widget-view+json": {
       "model_id": "e0541fbf9b904f5284c6589ba4f93b0d",
       "version_major": 2,
       "version_minor": 0
      },
      "text/plain": [
       "Uploading Dataframe: 0.00% |          | Rows 0/946 | Elapsed Time: 00:00 | Remaining Time: ?"
      ]
     },
     "metadata": {},
     "output_type": "display_data"
    },
    {
     "name": "stdout",
     "output_type": "stream",
     "text": [
      "Launching job: target_1_offline_fg_materialization\n",
      "Job started successfully, you can follow the progress at \n",
      "https://c.app.hopsworks.ai/p/824468/jobs/named/target_1_offline_fg_materialization/executions\n",
      "Statistics Job started successfully, you can follow the progress at \n",
      "https://c.app.hopsworks.ai/p/824468/jobs/named/target_1_compute_stats_22062024174523/executions\n"
     ]
    },
    {
     "data": {
      "text/plain": [
       "<hsfs.feature_group.FeatureGroup at 0x7b12685685d0>"
      ]
     },
     "execution_count": 58,
     "metadata": {},
     "output_type": "execute_result"
    }
   ],
   "source": [
    "to_feature_store(\n",
    "    df=y, group_name='target',\n",
    "    feature_group_version=1, description='Test run of target',\n",
    "    group_description=class_description\n",
    ")"
   ]
  }
 ],
 "metadata": {
  "kernelspec": {
   "display_name": "Python 3 (ipykernel)",
   "language": "python",
   "name": "python3"
  },
  "language_info": {
   "codemirror_mode": {
    "name": "ipython",
    "version": 3
   },
   "file_extension": ".py",
   "mimetype": "text/x-python",
   "name": "python",
   "nbconvert_exporter": "python",
   "pygments_lexer": "ipython3",
   "version": "3.11.4"
  }
 },
 "nbformat": 4,
 "nbformat_minor": 5
}
