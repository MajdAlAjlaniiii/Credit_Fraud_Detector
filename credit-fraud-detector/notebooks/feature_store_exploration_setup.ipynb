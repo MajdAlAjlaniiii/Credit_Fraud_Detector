{
 "cells": [
  {
   "cell_type": "code",
   "execution_count": 1,
   "id": "3275ae68-1888-4207-a7de-22665f5e1581",
   "metadata": {},
   "outputs": [],
   "source": [
    "import pandas as pd"
   ]
  },
  {
   "cell_type": "markdown",
   "id": "751cfe32-6610-4323-b282-4532f7b56c36",
   "metadata": {},
   "source": [
    "# Data loading and simple exploration"
   ]
  },
  {
   "cell_type": "code",
   "execution_count": 2,
   "id": "08d2908d-3796-482c-b7a5-b07fac9040d7",
   "metadata": {},
   "outputs": [
    {
     "data": {
      "text/html": [
       "<div>\n",
       "<style scoped>\n",
       "    .dataframe tbody tr th:only-of-type {\n",
       "        vertical-align: middle;\n",
       "    }\n",
       "\n",
       "    .dataframe tbody tr th {\n",
       "        vertical-align: top;\n",
       "    }\n",
       "\n",
       "    .dataframe thead th {\n",
       "        text-align: right;\n",
       "    }\n",
       "</style>\n",
       "<table border=\"1\" class=\"dataframe\">\n",
       "  <thead>\n",
       "    <tr style=\"text-align: right;\">\n",
       "      <th></th>\n",
       "      <th>scaled_amount</th>\n",
       "      <th>scaled_time</th>\n",
       "      <th>V1</th>\n",
       "      <th>V2</th>\n",
       "      <th>V3</th>\n",
       "      <th>V4</th>\n",
       "      <th>V5</th>\n",
       "      <th>V6</th>\n",
       "      <th>V7</th>\n",
       "      <th>V8</th>\n",
       "      <th>...</th>\n",
       "      <th>V20</th>\n",
       "      <th>V21</th>\n",
       "      <th>V22</th>\n",
       "      <th>V23</th>\n",
       "      <th>V24</th>\n",
       "      <th>V25</th>\n",
       "      <th>V26</th>\n",
       "      <th>V27</th>\n",
       "      <th>V28</th>\n",
       "      <th>Class</th>\n",
       "    </tr>\n",
       "  </thead>\n",
       "  <tbody>\n",
       "    <tr>\n",
       "      <th>0</th>\n",
       "      <td>-0.282401</td>\n",
       "      <td>-0.628720</td>\n",
       "      <td>1.237076</td>\n",
       "      <td>0.240536</td>\n",
       "      <td>0.644799</td>\n",
       "      <td>0.700348</td>\n",
       "      <td>-0.662809</td>\n",
       "      <td>-1.186289</td>\n",
       "      <td>0.051565</td>\n",
       "      <td>-0.212036</td>\n",
       "      <td>...</td>\n",
       "      <td>-0.120263</td>\n",
       "      <td>-0.238889</td>\n",
       "      <td>-0.705162</td>\n",
       "      <td>0.179966</td>\n",
       "      <td>0.699409</td>\n",
       "      <td>0.165166</td>\n",
       "      <td>0.075183</td>\n",
       "      <td>-0.030301</td>\n",
       "      <td>0.021784</td>\n",
       "      <td>0</td>\n",
       "    </tr>\n",
       "    <tr>\n",
       "      <th>1</th>\n",
       "      <td>1.186334</td>\n",
       "      <td>-0.083001</td>\n",
       "      <td>-7.139060</td>\n",
       "      <td>2.773082</td>\n",
       "      <td>-6.757845</td>\n",
       "      <td>4.446456</td>\n",
       "      <td>-5.464428</td>\n",
       "      <td>-1.713401</td>\n",
       "      <td>-6.485365</td>\n",
       "      <td>3.409395</td>\n",
       "      <td>...</td>\n",
       "      <td>-0.616949</td>\n",
       "      <td>1.303250</td>\n",
       "      <td>-0.016118</td>\n",
       "      <td>-0.876670</td>\n",
       "      <td>0.382230</td>\n",
       "      <td>-1.054624</td>\n",
       "      <td>-0.614606</td>\n",
       "      <td>-0.766848</td>\n",
       "      <td>0.409424</td>\n",
       "      <td>1</td>\n",
       "    </tr>\n",
       "    <tr>\n",
       "      <th>2</th>\n",
       "      <td>0.391253</td>\n",
       "      <td>0.870217</td>\n",
       "      <td>-1.018470</td>\n",
       "      <td>-0.800243</td>\n",
       "      <td>2.735630</td>\n",
       "      <td>-1.710196</td>\n",
       "      <td>-0.756206</td>\n",
       "      <td>-0.299152</td>\n",
       "      <td>-0.868650</td>\n",
       "      <td>0.263516</td>\n",
       "      <td>...</td>\n",
       "      <td>0.360591</td>\n",
       "      <td>0.499789</td>\n",
       "      <td>1.190104</td>\n",
       "      <td>-0.230243</td>\n",
       "      <td>0.016621</td>\n",
       "      <td>0.394464</td>\n",
       "      <td>0.046844</td>\n",
       "      <td>0.052241</td>\n",
       "      <td>0.082638</td>\n",
       "      <td>0</td>\n",
       "    </tr>\n",
       "    <tr>\n",
       "      <th>3</th>\n",
       "      <td>2.293440</td>\n",
       "      <td>0.289078</td>\n",
       "      <td>-1.000611</td>\n",
       "      <td>3.346850</td>\n",
       "      <td>-5.534491</td>\n",
       "      <td>6.835802</td>\n",
       "      <td>-0.299803</td>\n",
       "      <td>0.095951</td>\n",
       "      <td>-2.440419</td>\n",
       "      <td>1.286301</td>\n",
       "      <td>...</td>\n",
       "      <td>1.189814</td>\n",
       "      <td>0.439757</td>\n",
       "      <td>-0.694099</td>\n",
       "      <td>0.299660</td>\n",
       "      <td>-0.657601</td>\n",
       "      <td>0.101648</td>\n",
       "      <td>0.430457</td>\n",
       "      <td>0.824685</td>\n",
       "      <td>0.326952</td>\n",
       "      <td>1</td>\n",
       "    </tr>\n",
       "    <tr>\n",
       "      <th>4</th>\n",
       "      <td>-0.135401</td>\n",
       "      <td>0.969807</td>\n",
       "      <td>0.211042</td>\n",
       "      <td>1.352425</td>\n",
       "      <td>-2.257035</td>\n",
       "      <td>0.154344</td>\n",
       "      <td>0.530051</td>\n",
       "      <td>0.207244</td>\n",
       "      <td>-2.051166</td>\n",
       "      <td>-5.231705</td>\n",
       "      <td>...</td>\n",
       "      <td>1.100233</td>\n",
       "      <td>-2.511672</td>\n",
       "      <td>0.943468</td>\n",
       "      <td>-0.019769</td>\n",
       "      <td>0.586162</td>\n",
       "      <td>0.618007</td>\n",
       "      <td>0.621341</td>\n",
       "      <td>-0.098063</td>\n",
       "      <td>0.133970</td>\n",
       "      <td>0</td>\n",
       "    </tr>\n",
       "  </tbody>\n",
       "</table>\n",
       "<p>5 rows × 31 columns</p>\n",
       "</div>"
      ],
      "text/plain": [
       "   scaled_amount  scaled_time        V1        V2        V3        V4  \\\n",
       "0      -0.282401    -0.628720  1.237076  0.240536  0.644799  0.700348   \n",
       "1       1.186334    -0.083001 -7.139060  2.773082 -6.757845  4.446456   \n",
       "2       0.391253     0.870217 -1.018470 -0.800243  2.735630 -1.710196   \n",
       "3       2.293440     0.289078 -1.000611  3.346850 -5.534491  6.835802   \n",
       "4      -0.135401     0.969807  0.211042  1.352425 -2.257035  0.154344   \n",
       "\n",
       "         V5        V6        V7        V8  ...       V20       V21       V22  \\\n",
       "0 -0.662809 -1.186289  0.051565 -0.212036  ... -0.120263 -0.238889 -0.705162   \n",
       "1 -5.464428 -1.713401 -6.485365  3.409395  ... -0.616949  1.303250 -0.016118   \n",
       "2 -0.756206 -0.299152 -0.868650  0.263516  ...  0.360591  0.499789  1.190104   \n",
       "3 -0.299803  0.095951 -2.440419  1.286301  ...  1.189814  0.439757 -0.694099   \n",
       "4  0.530051  0.207244 -2.051166 -5.231705  ...  1.100233 -2.511672  0.943468   \n",
       "\n",
       "        V23       V24       V25       V26       V27       V28  Class  \n",
       "0  0.179966  0.699409  0.165166  0.075183 -0.030301  0.021784      0  \n",
       "1 -0.876670  0.382230 -1.054624 -0.614606 -0.766848  0.409424      1  \n",
       "2 -0.230243  0.016621  0.394464  0.046844  0.052241  0.082638      0  \n",
       "3  0.299660 -0.657601  0.101648  0.430457  0.824685  0.326952      1  \n",
       "4 -0.019769  0.586162  0.618007  0.621341 -0.098063  0.133970      0  \n",
       "\n",
       "[5 rows x 31 columns]"
      ]
     },
     "execution_count": 2,
     "metadata": {},
     "output_type": "execute_result"
    }
   ],
   "source": [
    "data = pd.read_csv('../data/03_primary/preprocessed_data.csv')\n",
    "data.head()"
   ]
  },
  {
   "cell_type": "markdown",
   "id": "ab4ee520-bbc9-46b7-b718-00cbedf7080d",
   "metadata": {},
   "source": [
    "The data is already preprocessed and it looks like there is no room for further feature engineering.<br>\n",
    "<br>\n",
    "That way, the only thing left to do is to push all the columns to our feature store."
   ]
  },
  {
   "cell_type": "markdown",
   "id": "878d75d9-bd51-4a84-8c30-539092abc1cc",
   "metadata": {},
   "source": [
    "# Hopsworks "
   ]
  },
  {
   "cell_type": "markdown",
   "id": "169e5913-c42e-46a7-810b-6bbc56d8ac7c",
   "metadata": {},
   "source": [
    "## Upload"
   ]
  },
  {
   "cell_type": "code",
   "execution_count": 3,
   "id": "eeba0c96-d443-4cef-b24d-f592b878cb4c",
   "metadata": {},
   "outputs": [],
   "source": [
    "from dotenv import load_dotenv\n",
    "import os"
   ]
  },
  {
   "cell_type": "code",
   "execution_count": 4,
   "id": "c80a4db9-ba58-489e-b8f8-2c1f4a4709e5",
   "metadata": {},
   "outputs": [
    {
     "data": {
      "text/plain": [
       "True"
      ]
     },
     "execution_count": 4,
     "metadata": {},
     "output_type": "execute_result"
    }
   ],
   "source": [
    "load_dotenv()"
   ]
  },
  {
   "cell_type": "code",
   "execution_count": 5,
   "id": "fc36f8ca-691f-49a4-807e-409347ee218e",
   "metadata": {},
   "outputs": [],
   "source": [
    "import hopsworks\n",
    "from great_expectations.core import ExpectationSuite"
   ]
  },
  {
   "cell_type": "code",
   "execution_count": 6,
   "id": "d8919d04-a4c7-4823-9541-5039b17b3af6",
   "metadata": {},
   "outputs": [],
   "source": [
    "from keyword import iskeyword"
   ]
  },
  {
   "cell_type": "code",
   "execution_count": 7,
   "id": "eabe651f-0e4c-488a-a24a-798097327573",
   "metadata": {},
   "outputs": [
    {
     "data": {
      "text/plain": [
       "False"
      ]
     },
     "execution_count": 7,
     "metadata": {},
     "output_type": "execute_result"
    }
   ],
   "source": [
    "iskeyword('class_')"
   ]
  },
  {
   "cell_type": "code",
   "execution_count": 8,
   "id": "11a386c0-4bbd-41b8-a31c-b850a0319da7",
   "metadata": {},
   "outputs": [
    {
     "ename": "NameError",
     "evalue": "name 'Union' is not defined",
     "output_type": "error",
     "traceback": [
      "\u001b[0;31m---------------------------------------------------------------------------\u001b[0m",
      "\u001b[0;31mNameError\u001b[0m                                 Traceback (most recent call last)",
      "Cell \u001b[0;32mIn[8], line 6\u001b[0m\n\u001b[1;32m      1\u001b[0m \u001b[38;5;28;01mdef\u001b[39;00m \u001b[38;5;21mto_feature_store\u001b[39m(\n\u001b[1;32m      2\u001b[0m     df: pd\u001b[38;5;241m.\u001b[39mDataFrame,\n\u001b[1;32m      3\u001b[0m     group_name: \u001b[38;5;28mstr\u001b[39m,\n\u001b[1;32m      4\u001b[0m     description: \u001b[38;5;28mstr\u001b[39m,\n\u001b[1;32m      5\u001b[0m     group_description: \u001b[38;5;28mdict\u001b[39m,\n\u001b[0;32m----> 6\u001b[0m     feature_group_version: \u001b[43mUnion\u001b[49m[\u001b[38;5;28mint\u001b[39m, \u001b[38;5;28;01mNone\u001b[39;00m] \u001b[38;5;241m=\u001b[39m \u001b[38;5;28;01mNone\u001b[39;00m,\n\u001b[1;32m      7\u001b[0m     validation_expectation_suite: ExpectationSuite \u001b[38;5;241m=\u001b[39m \u001b[38;5;28;01mNone\u001b[39;00m\n\u001b[1;32m      8\u001b[0m ):\n\u001b[1;32m      9\u001b[0m \u001b[38;5;250m    \u001b[39m\u001b[38;5;124;03m'''\u001b[39;00m\n\u001b[1;32m     10\u001b[0m \u001b[38;5;124;03m    This function takes in a pandas DataFrame and a validation expectation suite,\u001b[39;00m\n\u001b[1;32m     11\u001b[0m \u001b[38;5;124;03m      performs validation on the data using the suite, and then saves the data to a\u001b[39;00m\n\u001b[0;32m   (...)\u001b[0m\n\u001b[1;32m     23\u001b[0m \u001b[38;5;124;03m        - A dictionary with the feature view version, feature view name and training dataset feature version.\u001b[39;00m\n\u001b[1;32m     24\u001b[0m \u001b[38;5;124;03m    '''\u001b[39;00m\n\u001b[1;32m     25\u001b[0m     \u001b[38;5;66;03m##### DELETE THIS BIT AFTER GX IS IMPLEMENTED #####\u001b[39;00m\n",
      "\u001b[0;31mNameError\u001b[0m: name 'Union' is not defined"
     ]
    }
   ],
   "source": [
    "def to_feature_store(\n",
    "    df: pd.DataFrame,\n",
    "    group_name: str,\n",
    "    description: str,\n",
    "    group_description: dict,\n",
    "    feature_group_version: Union[int, None] = None,\n",
    "    validation_expectation_suite: ExpectationSuite = None\n",
    "):\n",
    "    '''\n",
    "    This function takes in a pandas DataFrame and a validation expectation suite,\n",
    "      performs validation on the data using the suite, and then saves the data to a\n",
    "      feature store in the feature store.\n",
    "\n",
    "    Args:\n",
    "        - data (pd.DataFrame): Dataframe with the data to be stored\n",
    "        - group_name (str): Name of the feature group.\n",
    "        - feature_group_version (int | None): Version of the feature group. If None, increment 1 from last version\n",
    "        - description (str): Description for the feature group.\n",
    "        - group_description (dict): Description of each feature of the feature group. \n",
    "        - validation_expectation_suite (ExpectationSuite): group of expectations to check data.\n",
    "        \n",
    "    Returns:\n",
    "        - A dictionary with the feature view version, feature view name and training dataset feature version.\n",
    "    '''\n",
    "    ##### DELETE THIS BIT AFTER GX IS IMPLEMENTED #####\n",
    "    if validation_expectation_suite:\n",
    "        raise NotImplementedError\n",
    "    ###################################################\n",
    "    \n",
    "    if not isinstance(df, pd.DataFrame) and not isinstance(df, pd.Series):\n",
    "        raise TypeError(f'Expect pd.DataFrame, got {type(df)}')\n",
    "    if isinstance(df, pd.Series):\n",
    "        new_df = pd.DataFrame({'index': df.index, df.name: df})\n",
    "        df = new_df\n",
    "    \n",
    "    # Create primary key to posteriorly joins\n",
    "    if 'index' not in df.columns:\n",
    "        df = df.reset_index()\n",
    "\n",
    "    # Hopsworks only accepts lowercase column names, better to sanitize beforehand. Also, try to protect from Python's reserved words\n",
    "    df.columns = list(map(lambda x: x.lower() if not iskeyword(x.lower()) else x.lower() + '_', df.columns))\n",
    "    \n",
    "    # Get credentials\n",
    "    project_name = os.environ.get('FS_PROJECT_NAME')\n",
    "    api_key = os.environ.get('FS_API_KEY')\n",
    "    \n",
    "    # Connect to feature store.\n",
    "    project = hopsworks.login(\n",
    "        api_key_value=api_key, project=project_name\n",
    "    )\n",
    "    feature_store = project.get_feature_store()\n",
    "\n",
    "    # Create feature group.\n",
    "    object_feature_group = feature_store.get_or_create_feature_group(\n",
    "        name=group_name,\n",
    "        version=feature_group_version,\n",
    "        primary_key=['index'],\n",
    "        description= description,\n",
    "        online_enabled=False,\n",
    "        expectation_suite=validation_expectation_suite\n",
    "    )\n",
    "    \n",
    "    # Upload data.\n",
    "    object_feature_group.insert(\n",
    "        features=df,\n",
    "        overwrite=False,\n",
    "        write_options={\n",
    "            \"wait_for_job\": True,\n",
    "        },\n",
    "    )\n",
    "\n",
    "    # Add feature descriptions.\n",
    "    for description in group_description:\n",
    "        object_feature_group.update_feature_description(\n",
    "            description[\"name\"], description[\"description\"]\n",
    "        )\n",
    "\n",
    "    # Update statistics.\n",
    "    object_feature_group.statistics_config = {\n",
    "        \"enabled\": True,\n",
    "        \"histograms\": True,\n",
    "        \"correlations\": True,\n",
    "    }\n",
    "    object_feature_group.update_statistics_config()\n",
    "    object_feature_group.compute_statistics()\n",
    "\n",
    "    return object_feature_group"
   ]
  },
  {
   "cell_type": "markdown",
   "id": "fa1edb25-7bc9-46a3-900f-7e765f09558c",
   "metadata": {},
   "source": [
    "### Test run"
   ]
  },
  {
   "cell_type": "code",
   "execution_count": 18,
   "id": "e1d2bbcb-18a4-48a5-9a01-ef6df2270e12",
   "metadata": {},
   "outputs": [
    {
     "data": {
      "text/plain": [
       "Index(['scaled_amount', 'scaled_time', 'V1', 'V2', 'V3', 'V4', 'V5', 'V6',\n",
       "       'V7', 'V8', 'V9', 'V10', 'V11', 'V12', 'V13', 'V14', 'V15', 'V16',\n",
       "       'V17', 'V18', 'V19', 'V20', 'V21', 'V22', 'V23', 'V24', 'V25', 'V26',\n",
       "       'V27', 'V28', 'Class'],\n",
       "      dtype='object')"
      ]
     },
     "execution_count": 18,
     "metadata": {},
     "output_type": "execute_result"
    }
   ],
   "source": [
    "data.columns"
   ]
  },
  {
   "cell_type": "markdown",
   "id": "6fc13fc0-8c9c-47b6-aa69-fa96735addbc",
   "metadata": {},
   "source": [
    "### Feature descriptions"
   ]
  },
  {
   "cell_type": "code",
   "execution_count": 82,
   "id": "b6936f98-121a-4a13-af78-d0cde3dcd444",
   "metadata": {
    "scrolled": true
   },
   "outputs": [
    {
     "data": {
      "text/plain": [
       "[{'name': 'v1',\n",
       "  'description': 'Anonymized credit card data',\n",
       "  'validation_rules': 'TO DETERMINE'},\n",
       " {'name': 'v2',\n",
       "  'description': 'Anonymized credit card data',\n",
       "  'validation_rules': 'TO DETERMINE'},\n",
       " {'name': 'v3',\n",
       "  'description': 'Anonymized credit card data',\n",
       "  'validation_rules': 'TO DETERMINE'},\n",
       " {'name': 'v4',\n",
       "  'description': 'Anonymized credit card data',\n",
       "  'validation_rules': 'TO DETERMINE'},\n",
       " {'name': 'v5',\n",
       "  'description': 'Anonymized credit card data',\n",
       "  'validation_rules': 'TO DETERMINE'},\n",
       " {'name': 'v6',\n",
       "  'description': 'Anonymized credit card data',\n",
       "  'validation_rules': 'TO DETERMINE'},\n",
       " {'name': 'v7',\n",
       "  'description': 'Anonymized credit card data',\n",
       "  'validation_rules': 'TO DETERMINE'},\n",
       " {'name': 'v8',\n",
       "  'description': 'Anonymized credit card data',\n",
       "  'validation_rules': 'TO DETERMINE'},\n",
       " {'name': 'v9',\n",
       "  'description': 'Anonymized credit card data',\n",
       "  'validation_rules': 'TO DETERMINE'},\n",
       " {'name': 'v10',\n",
       "  'description': 'Anonymized credit card data',\n",
       "  'validation_rules': 'TO DETERMINE'},\n",
       " {'name': 'v11',\n",
       "  'description': 'Anonymized credit card data',\n",
       "  'validation_rules': 'TO DETERMINE'},\n",
       " {'name': 'v12',\n",
       "  'description': 'Anonymized credit card data',\n",
       "  'validation_rules': 'TO DETERMINE'},\n",
       " {'name': 'v13',\n",
       "  'description': 'Anonymized credit card data',\n",
       "  'validation_rules': 'TO DETERMINE'},\n",
       " {'name': 'v14',\n",
       "  'description': 'Anonymized credit card data',\n",
       "  'validation_rules': 'TO DETERMINE'},\n",
       " {'name': 'v15',\n",
       "  'description': 'Anonymized credit card data',\n",
       "  'validation_rules': 'TO DETERMINE'},\n",
       " {'name': 'v16',\n",
       "  'description': 'Anonymized credit card data',\n",
       "  'validation_rules': 'TO DETERMINE'},\n",
       " {'name': 'v17',\n",
       "  'description': 'Anonymized credit card data',\n",
       "  'validation_rules': 'TO DETERMINE'},\n",
       " {'name': 'v18',\n",
       "  'description': 'Anonymized credit card data',\n",
       "  'validation_rules': 'TO DETERMINE'},\n",
       " {'name': 'v19',\n",
       "  'description': 'Anonymized credit card data',\n",
       "  'validation_rules': 'TO DETERMINE'},\n",
       " {'name': 'v20',\n",
       "  'description': 'Anonymized credit card data',\n",
       "  'validation_rules': 'TO DETERMINE'},\n",
       " {'name': 'v21',\n",
       "  'description': 'Anonymized credit card data',\n",
       "  'validation_rules': 'TO DETERMINE'},\n",
       " {'name': 'v22',\n",
       "  'description': 'Anonymized credit card data',\n",
       "  'validation_rules': 'TO DETERMINE'},\n",
       " {'name': 'v23',\n",
       "  'description': 'Anonymized credit card data',\n",
       "  'validation_rules': 'TO DETERMINE'},\n",
       " {'name': 'v24',\n",
       "  'description': 'Anonymized credit card data',\n",
       "  'validation_rules': 'TO DETERMINE'},\n",
       " {'name': 'v25',\n",
       "  'description': 'Anonymized credit card data',\n",
       "  'validation_rules': 'TO DETERMINE'},\n",
       " {'name': 'v26',\n",
       "  'description': 'Anonymized credit card data',\n",
       "  'validation_rules': 'TO DETERMINE'},\n",
       " {'name': 'v27',\n",
       "  'description': 'Anonymized credit card data',\n",
       "  'validation_rules': 'TO DETERMINE'},\n",
       " {'name': 'v28',\n",
       "  'description': 'Anonymized credit card data',\n",
       "  'validation_rules': 'TO DETERMINE'},\n",
       " {'name': 'scaled_amount',\n",
       "  'description': 'Scaled amount of transaction',\n",
       "  'validation_rules': 'TO DETERMINE'},\n",
       " {'name': 'scaled_time',\n",
       "  'description': 'Scaled amount of time, relative to first transaction observation',\n",
       "  'validation_rules': 'TO DETERMINE'},\n",
       " {'name': 'index',\n",
       "  'description': 'Index of the observations',\n",
       "  'validation_rules': 'Positive integer, unique'}]"
      ]
     },
     "execution_count": 82,
     "metadata": {},
     "output_type": "execute_result"
    }
   ],
   "source": [
    "feature_descriptions = [{'name': f'v{i}', 'description': 'Anonymized credit card data', 'validation_rules': 'TO DETERMINE'} for i in range(1, 29)] \n",
    "feature_descriptions += [\n",
    "    {'name': 'scaled_amount', 'description': 'Scaled amount of transaction', 'validation_rules': 'TO DETERMINE'},\n",
    "    {'name': 'scaled_time', 'description': 'Scaled amount of time, relative to first transaction observation', 'validation_rules': 'TO DETERMINE'},\n",
    "    {'name': 'index', 'description': 'Index of the observations', 'validation_rules': 'Positive integer, unique'},\n",
    "]\n",
    "\n",
    "feature_descriptions"
   ]
  },
  {
   "cell_type": "code",
   "execution_count": 115,
   "id": "66d10f9f-da01-4120-b54b-cb24a9a032bb",
   "metadata": {},
   "outputs": [],
   "source": [
    "class_description = [\n",
    "    {'name': 'index', 'description': 'Index of the observations', 'validation_rules': 'Positive integer, unique'},\n",
    "    {'name': 'class_', 'description': 'Predicted class of the observation. 1 for fraud, 0 otherwise', 'validation_rules': '0 or 1'}\n",
    "]"
   ]
  },
  {
   "cell_type": "code",
   "execution_count": 84,
   "id": "0992ca5b-5e63-4916-8e2d-acffa0f3037a",
   "metadata": {},
   "outputs": [],
   "source": [
    "X = data.drop(columns=['Class'])\n",
    "y = data['Class']"
   ]
  },
  {
   "cell_type": "code",
   "execution_count": 85,
   "id": "6d609183-050f-4e6b-b698-30b58b7081c4",
   "metadata": {},
   "outputs": [
    {
     "name": "stdout",
     "output_type": "stream",
     "text": [
      "Connection closed.\n",
      "Connected. Call `.close()` to terminate connection gracefully.\n",
      "\n",
      "Logged in to project, explore it here https://c.app.hopsworks.ai:443/p/824468\n",
      "Connected. Call `.close()` to terminate connection gracefully.\n"
     ]
    },
    {
     "data": {
      "application/vnd.jupyter.widget-view+json": {
       "model_id": "cd2f22c863f547549e9f5588fe5b5ae2",
       "version_major": 2,
       "version_minor": 0
      },
      "text/plain": [
       "Uploading Dataframe: 0.00% |          | Rows 0/946 | Elapsed Time: 00:00 | Remaining Time: ?"
      ]
     },
     "metadata": {},
     "output_type": "display_data"
    },
    {
     "name": "stdout",
     "output_type": "stream",
     "text": [
      "Launching job: features_1_offline_fg_materialization\n",
      "Job started successfully, you can follow the progress at \n",
      "https://c.app.hopsworks.ai/p/824468/jobs/named/features_1_offline_fg_materialization/executions\n"
     ]
    },
    {
     "data": {
      "text/plain": [
       "<hsfs.feature_group.FeatureGroup at 0x7b1253e48890>"
      ]
     },
     "execution_count": 85,
     "metadata": {},
     "output_type": "execute_result"
    }
   ],
   "source": [
    "to_feature_store(\n",
    "    df=X, group_name='features',\n",
    "    feature_group_version=1, description='Test run of features',\n",
    "    group_description=feature_descriptions\n",
    ")"
   ]
  },
  {
   "cell_type": "code",
   "execution_count": 116,
   "id": "8258bcba-0459-4867-93b0-ca439e88feb7",
   "metadata": {},
   "outputs": [
    {
     "name": "stdout",
     "output_type": "stream",
     "text": [
      "Connection closed.\n",
      "Connected. Call `.close()` to terminate connection gracefully.\n",
      "\n",
      "Logged in to project, explore it here https://c.app.hopsworks.ai:443/p/824468\n",
      "Connected. Call `.close()` to terminate connection gracefully.\n"
     ]
    },
    {
     "data": {
      "application/vnd.jupyter.widget-view+json": {
       "model_id": "315110f80c514cb39c8148a9b077ea65",
       "version_major": 2,
       "version_minor": 0
      },
      "text/plain": [
       "Uploading Dataframe: 0.00% |          | Rows 0/946 | Elapsed Time: 00:00 | Remaining Time: ?"
      ]
     },
     "metadata": {},
     "output_type": "display_data"
    },
    {
     "name": "stdout",
     "output_type": "stream",
     "text": [
      "Launching job: target_5_offline_fg_materialization\n",
      "Job started successfully, you can follow the progress at \n",
      "https://c.app.hopsworks.ai/p/824468/jobs/named/target_5_offline_fg_materialization/executions\n",
      "Statistics Job started successfully, you can follow the progress at \n",
      "https://c.app.hopsworks.ai/p/824468/jobs/named/target_5_compute_stats_22062024193250/executions\n"
     ]
    },
    {
     "data": {
      "text/plain": [
       "<hsfs.feature_group.FeatureGroup at 0x7b1253e067d0>"
      ]
     },
     "execution_count": 116,
     "metadata": {},
     "output_type": "execute_result"
    }
   ],
   "source": [
    "to_feature_store(\n",
    "    df=y, group_name='target',\n",
    "    feature_group_version=5, description='Test run of target',\n",
    "    group_description=class_description\n",
    ")"
   ]
  },
  {
   "cell_type": "markdown",
   "id": "9d64f4b2-cf17-4797-b059-79377e15f44c",
   "metadata": {},
   "source": [
    "## Download"
   ]
  },
  {
   "cell_type": "code",
   "execution_count": 26,
   "id": "f4d3a975-ebee-4110-a726-0eb7de91c6a0",
   "metadata": {},
   "outputs": [],
   "source": [
    "from typing import Union\n",
    "\n",
    "def get_features(\n",
    "    group_name: str,\n",
    "    version: Union[int, None] = None\n",
    "):\n",
    "    '''\n",
    "    This function takes in the group name of the desired features in Hopsworks and returns ad pd.DataFrame with them.\n",
    "\n",
    "    Args:\n",
    "        - group_name (str): Name of the feature group.\n",
    "        - version (int | None): Version number of feature group. If None, latest is returned\n",
    "        \n",
    "    Returns:\n",
    "        - A pd.DataFrame with the features.\n",
    "    '''\n",
    "    project_name = os.environ.get('FS_PROJECT_NAME')\n",
    "    api_key = os.environ.get('FS_API_KEY')\n",
    "    \n",
    "    project = hopsworks.login(api_key_value=api_key, project=project_name)\n",
    "    fs = project.get_feature_store()\n",
    "\n",
    "    if version:\n",
    "        features = fs.get_feature_group(name=group_name, version=version)\n",
    "    else:\n",
    "        # Get a list with all the versions and chooses the latest\n",
    "        features = max(fs.get_feature_groups(name='target'), key=attrgetter('version'))\n",
    "        \n",
    "    df = features.read()\n",
    "\n",
    "    return df"
   ]
  },
  {
   "cell_type": "code",
   "execution_count": 27,
   "id": "84e27b0c-3825-4a98-bd21-7d22ff03b0dc",
   "metadata": {},
   "outputs": [
    {
     "name": "stdout",
     "output_type": "stream",
     "text": [
      "Connection closed.\n",
      "Connected. Call `.close()` to terminate connection gracefully.\n",
      "\n",
      "Logged in to project, explore it here https://c.app.hopsworks.ai:443/p/824468\n",
      "Connected. Call `.close()` to terminate connection gracefully.\n",
      "Finished: Reading data from Hopsworks, using Hopsworks Feature Query Service (0.82s) \n"
     ]
    },
    {
     "data": {
      "text/html": [
       "<div>\n",
       "<style scoped>\n",
       "    .dataframe tbody tr th:only-of-type {\n",
       "        vertical-align: middle;\n",
       "    }\n",
       "\n",
       "    .dataframe tbody tr th {\n",
       "        vertical-align: top;\n",
       "    }\n",
       "\n",
       "    .dataframe thead th {\n",
       "        text-align: right;\n",
       "    }\n",
       "</style>\n",
       "<table border=\"1\" class=\"dataframe\">\n",
       "  <thead>\n",
       "    <tr style=\"text-align: right;\">\n",
       "      <th></th>\n",
       "      <th>index</th>\n",
       "      <th>class_</th>\n",
       "    </tr>\n",
       "  </thead>\n",
       "  <tbody>\n",
       "    <tr>\n",
       "      <th>0</th>\n",
       "      <td>866</td>\n",
       "      <td>0</td>\n",
       "    </tr>\n",
       "    <tr>\n",
       "      <th>1</th>\n",
       "      <td>848</td>\n",
       "      <td>0</td>\n",
       "    </tr>\n",
       "    <tr>\n",
       "      <th>2</th>\n",
       "      <td>21</td>\n",
       "      <td>1</td>\n",
       "    </tr>\n",
       "    <tr>\n",
       "      <th>3</th>\n",
       "      <td>762</td>\n",
       "      <td>0</td>\n",
       "    </tr>\n",
       "    <tr>\n",
       "      <th>4</th>\n",
       "      <td>294</td>\n",
       "      <td>1</td>\n",
       "    </tr>\n",
       "    <tr>\n",
       "      <th>...</th>\n",
       "      <td>...</td>\n",
       "      <td>...</td>\n",
       "    </tr>\n",
       "    <tr>\n",
       "      <th>941</th>\n",
       "      <td>707</td>\n",
       "      <td>0</td>\n",
       "    </tr>\n",
       "    <tr>\n",
       "      <th>942</th>\n",
       "      <td>239</td>\n",
       "      <td>1</td>\n",
       "    </tr>\n",
       "    <tr>\n",
       "      <th>943</th>\n",
       "      <td>171</td>\n",
       "      <td>0</td>\n",
       "    </tr>\n",
       "    <tr>\n",
       "      <th>944</th>\n",
       "      <td>874</td>\n",
       "      <td>1</td>\n",
       "    </tr>\n",
       "    <tr>\n",
       "      <th>945</th>\n",
       "      <td>248</td>\n",
       "      <td>0</td>\n",
       "    </tr>\n",
       "  </tbody>\n",
       "</table>\n",
       "<p>946 rows × 2 columns</p>\n",
       "</div>"
      ],
      "text/plain": [
       "     index  class_\n",
       "0      866       0\n",
       "1      848       0\n",
       "2       21       1\n",
       "3      762       0\n",
       "4      294       1\n",
       "..     ...     ...\n",
       "941    707       0\n",
       "942    239       1\n",
       "943    171       0\n",
       "944    874       1\n",
       "945    248       0\n",
       "\n",
       "[946 rows x 2 columns]"
      ]
     },
     "execution_count": 27,
     "metadata": {},
     "output_type": "execute_result"
    }
   ],
   "source": [
    "get_features(\n",
    "    'target'\n",
    ")"
   ]
  },
  {
   "cell_type": "code",
   "execution_count": 123,
   "id": "e481d003-970c-432a-8d4f-14ba80fab2bb",
   "metadata": {},
   "outputs": [
    {
     "name": "stdout",
     "output_type": "stream",
     "text": [
      "Connection closed.\n",
      "Connected. Call `.close()` to terminate connection gracefully.\n",
      "\n",
      "Logged in to project, explore it here https://c.app.hopsworks.ai:443/p/824468\n",
      "Connected. Call `.close()` to terminate connection gracefully.\n",
      "Finished: Reading data from Hopsworks, using Hopsworks Feature Query Service (0.74s) \n"
     ]
    },
    {
     "data": {
      "text/html": [
       "<div>\n",
       "<style scoped>\n",
       "    .dataframe tbody tr th:only-of-type {\n",
       "        vertical-align: middle;\n",
       "    }\n",
       "\n",
       "    .dataframe tbody tr th {\n",
       "        vertical-align: top;\n",
       "    }\n",
       "\n",
       "    .dataframe thead th {\n",
       "        text-align: right;\n",
       "    }\n",
       "</style>\n",
       "<table border=\"1\" class=\"dataframe\">\n",
       "  <thead>\n",
       "    <tr style=\"text-align: right;\">\n",
       "      <th></th>\n",
       "      <th>index</th>\n",
       "      <th>class_</th>\n",
       "    </tr>\n",
       "  </thead>\n",
       "  <tbody>\n",
       "    <tr>\n",
       "      <th>0</th>\n",
       "      <td>866</td>\n",
       "      <td>0</td>\n",
       "    </tr>\n",
       "    <tr>\n",
       "      <th>1</th>\n",
       "      <td>848</td>\n",
       "      <td>0</td>\n",
       "    </tr>\n",
       "    <tr>\n",
       "      <th>2</th>\n",
       "      <td>21</td>\n",
       "      <td>1</td>\n",
       "    </tr>\n",
       "    <tr>\n",
       "      <th>3</th>\n",
       "      <td>762</td>\n",
       "      <td>0</td>\n",
       "    </tr>\n",
       "    <tr>\n",
       "      <th>4</th>\n",
       "      <td>294</td>\n",
       "      <td>1</td>\n",
       "    </tr>\n",
       "    <tr>\n",
       "      <th>...</th>\n",
       "      <td>...</td>\n",
       "      <td>...</td>\n",
       "    </tr>\n",
       "    <tr>\n",
       "      <th>941</th>\n",
       "      <td>707</td>\n",
       "      <td>0</td>\n",
       "    </tr>\n",
       "    <tr>\n",
       "      <th>942</th>\n",
       "      <td>239</td>\n",
       "      <td>1</td>\n",
       "    </tr>\n",
       "    <tr>\n",
       "      <th>943</th>\n",
       "      <td>171</td>\n",
       "      <td>0</td>\n",
       "    </tr>\n",
       "    <tr>\n",
       "      <th>944</th>\n",
       "      <td>874</td>\n",
       "      <td>1</td>\n",
       "    </tr>\n",
       "    <tr>\n",
       "      <th>945</th>\n",
       "      <td>248</td>\n",
       "      <td>0</td>\n",
       "    </tr>\n",
       "  </tbody>\n",
       "</table>\n",
       "<p>946 rows × 2 columns</p>\n",
       "</div>"
      ],
      "text/plain": [
       "     index  class_\n",
       "0      866       0\n",
       "1      848       0\n",
       "2       21       1\n",
       "3      762       0\n",
       "4      294       1\n",
       "..     ...     ...\n",
       "941    707       0\n",
       "942    239       1\n",
       "943    171       0\n",
       "944    874       1\n",
       "945    248       0\n",
       "\n",
       "[946 rows x 2 columns]"
      ]
     },
     "execution_count": 123,
     "metadata": {},
     "output_type": "execute_result"
    }
   ],
   "source": [
    "get_features(\n",
    "    'target',\n",
    "    5\n",
    ")"
   ]
  },
  {
   "cell_type": "code",
   "execution_count": 9,
   "id": "8c1cfd96-ae63-43d6-8105-1eb2907ad2d0",
   "metadata": {},
   "outputs": [
    {
     "name": "stdout",
     "output_type": "stream",
     "text": [
      "Connected. Call `.close()` to terminate connection gracefully.\n",
      "\n",
      "Logged in to project, explore it here https://c.app.hopsworks.ai:443/p/824468\n",
      "Connected. Call `.close()` to terminate connection gracefully.\n"
     ]
    }
   ],
   "source": [
    "# Get credentials\n",
    "project_name = os.environ.get('FS_PROJECT_NAME')\n",
    "api_key = os.environ.get('FS_API_KEY')\n",
    "\n",
    "# Connect to feature store.\n",
    "project = hopsworks.login(\n",
    "    api_key_value=api_key, project=project_name\n",
    ")\n",
    "feature_store = project.get_feature_store()"
   ]
  },
  {
   "cell_type": "code",
   "execution_count": 11,
   "id": "7c62ca76-c7e1-4da2-9b2a-fddff92ec49e",
   "metadata": {},
   "outputs": [
    {
     "data": {
      "text/plain": [
       "<hsfs.feature_group.FeatureGroup at 0x7527fad5ca90>"
      ]
     },
     "execution_count": 11,
     "metadata": {},
     "output_type": "execute_result"
    }
   ],
   "source": [
    "feature_store.get_or_create_feature_group(name='features', version=5)"
   ]
  }
 ],
 "metadata": {
  "kernelspec": {
   "display_name": "Python 3 (ipykernel)",
   "language": "python",
   "name": "python3"
  },
  "language_info": {
   "codemirror_mode": {
    "name": "ipython",
    "version": 3
   },
   "file_extension": ".py",
   "mimetype": "text/x-python",
   "name": "python",
   "nbconvert_exporter": "python",
   "pygments_lexer": "ipython3",
   "version": "3.11.4"
  }
 },
 "nbformat": 4,
 "nbformat_minor": 5
}
